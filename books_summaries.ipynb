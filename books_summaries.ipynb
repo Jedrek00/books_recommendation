{
 "cells": [
  {
   "cell_type": "code",
   "execution_count": 1,
   "metadata": {},
   "outputs": [
    {
     "name": "stderr",
     "output_type": "stream",
     "text": [
      "[nltk_data] Downloading package punkt to /home/keren/nltk_data...\n",
      "[nltk_data]   Package punkt is already up-to-date!\n"
     ]
    },
    {
     "data": {
      "text/plain": [
       "True"
      ]
     },
     "execution_count": 1,
     "metadata": {},
     "output_type": "execute_result"
    }
   ],
   "source": [
    "import re\n",
    "import csv\n",
    "import json\n",
    "\n",
    "import numpy as np\n",
    "import pandas as pd\n",
    "import matplotlib.pyplot as plt\n",
    "from IPython.display import Markdown\n",
    "\n",
    "import nltk\n",
    "from nltk.corpus import stopwords\n",
    "from nltk.stem import WordNetLemmatizer\n",
    "\n",
    "nltk.download(\"punkt\")"
   ]
  },
  {
   "cell_type": "markdown",
   "metadata": {},
   "source": [
    "## Load data\n",
    "\n",
    "Link to data: https://www.kaggle.com/datasets/ymaricar/cmu-book-summary-dataset/data"
   ]
  },
  {
   "cell_type": "code",
   "execution_count": 2,
   "metadata": {},
   "outputs": [],
   "source": [
    "DATA_PATH = \"./data/booksummaries.txt\""
   ]
  },
  {
   "cell_type": "code",
   "execution_count": 3,
   "metadata": {},
   "outputs": [
    {
     "data": {
      "text/html": [
       "<div>\n",
       "<style scoped>\n",
       "    .dataframe tbody tr th:only-of-type {\n",
       "        vertical-align: middle;\n",
       "    }\n",
       "\n",
       "    .dataframe tbody tr th {\n",
       "        vertical-align: top;\n",
       "    }\n",
       "\n",
       "    .dataframe thead th {\n",
       "        text-align: right;\n",
       "    }\n",
       "</style>\n",
       "<table border=\"1\" class=\"dataframe\">\n",
       "  <thead>\n",
       "    <tr style=\"text-align: right;\">\n",
       "      <th></th>\n",
       "      <th>book_id</th>\n",
       "      <th>freebase_id</th>\n",
       "      <th>book_title</th>\n",
       "      <th>author</th>\n",
       "      <th>publication_date</th>\n",
       "      <th>genre</th>\n",
       "      <th>summary</th>\n",
       "    </tr>\n",
       "  </thead>\n",
       "  <tbody>\n",
       "    <tr>\n",
       "      <th>0</th>\n",
       "      <td>620</td>\n",
       "      <td>/m/0hhy</td>\n",
       "      <td>Animal Farm</td>\n",
       "      <td>George Orwell</td>\n",
       "      <td>1945-08-17</td>\n",
       "      <td>{\"/m/016lj8\": \"Roman \\u00e0 clef\", \"/m/06nbt\":...</td>\n",
       "      <td>Old Major, the old boar on the Manor Farm, ca...</td>\n",
       "    </tr>\n",
       "    <tr>\n",
       "      <th>1</th>\n",
       "      <td>843</td>\n",
       "      <td>/m/0k36</td>\n",
       "      <td>A Clockwork Orange</td>\n",
       "      <td>Anthony Burgess</td>\n",
       "      <td>1962</td>\n",
       "      <td>{\"/m/06n90\": \"Science Fiction\", \"/m/0l67h\": \"N...</td>\n",
       "      <td>Alex, a teenager living in near-future Englan...</td>\n",
       "    </tr>\n",
       "    <tr>\n",
       "      <th>2</th>\n",
       "      <td>986</td>\n",
       "      <td>/m/0ldx</td>\n",
       "      <td>The Plague</td>\n",
       "      <td>Albert Camus</td>\n",
       "      <td>1947</td>\n",
       "      <td>{\"/m/02m4t\": \"Existentialism\", \"/m/02xlf\": \"Fi...</td>\n",
       "      <td>The text of The Plague is divided into five p...</td>\n",
       "    </tr>\n",
       "    <tr>\n",
       "      <th>3</th>\n",
       "      <td>1756</td>\n",
       "      <td>/m/0sww</td>\n",
       "      <td>An Enquiry Concerning Human Understanding</td>\n",
       "      <td>David Hume</td>\n",
       "      <td></td>\n",
       "      <td></td>\n",
       "      <td>The argument of the Enquiry proceeds by a ser...</td>\n",
       "    </tr>\n",
       "    <tr>\n",
       "      <th>4</th>\n",
       "      <td>2080</td>\n",
       "      <td>/m/0wkt</td>\n",
       "      <td>A Fire Upon the Deep</td>\n",
       "      <td>Vernor Vinge</td>\n",
       "      <td></td>\n",
       "      <td>{\"/m/03lrw\": \"Hard science fiction\", \"/m/06n90...</td>\n",
       "      <td>The novel posits that space around the Milky ...</td>\n",
       "    </tr>\n",
       "  </tbody>\n",
       "</table>\n",
       "</div>"
      ],
      "text/plain": [
       "  book_id freebase_id                                 book_title  \\\n",
       "0     620     /m/0hhy                                Animal Farm   \n",
       "1     843     /m/0k36                         A Clockwork Orange   \n",
       "2     986     /m/0ldx                                 The Plague   \n",
       "3    1756     /m/0sww  An Enquiry Concerning Human Understanding   \n",
       "4    2080     /m/0wkt                       A Fire Upon the Deep   \n",
       "\n",
       "            author publication_date  \\\n",
       "0    George Orwell       1945-08-17   \n",
       "1  Anthony Burgess             1962   \n",
       "2     Albert Camus             1947   \n",
       "3       David Hume                    \n",
       "4     Vernor Vinge                    \n",
       "\n",
       "                                               genre  \\\n",
       "0  {\"/m/016lj8\": \"Roman \\u00e0 clef\", \"/m/06nbt\":...   \n",
       "1  {\"/m/06n90\": \"Science Fiction\", \"/m/0l67h\": \"N...   \n",
       "2  {\"/m/02m4t\": \"Existentialism\", \"/m/02xlf\": \"Fi...   \n",
       "3                                                      \n",
       "4  {\"/m/03lrw\": \"Hard science fiction\", \"/m/06n90...   \n",
       "\n",
       "                                             summary  \n",
       "0   Old Major, the old boar on the Manor Farm, ca...  \n",
       "1   Alex, a teenager living in near-future Englan...  \n",
       "2   The text of The Plague is divided into five p...  \n",
       "3   The argument of the Enquiry proceeds by a ser...  \n",
       "4   The novel posits that space around the Milky ...  "
      ]
     },
     "execution_count": 3,
     "metadata": {},
     "output_type": "execute_result"
    }
   ],
   "source": [
    "data = []\n",
    "with open(DATA_PATH, 'r') as f:\n",
    "    reader = csv.reader(f, dialect='excel-tab')\n",
    "    for row in reader:\n",
    "        data.append(row)\n",
    "\n",
    "columns = ['book_id', 'freebase_id', 'book_title', 'author', 'publication_date', 'genre', 'summary']\n",
    "df = pd.DataFrame.from_records(data, columns=columns)\n",
    "df.head()"
   ]
  },
  {
   "cell_type": "code",
   "execution_count": 4,
   "metadata": {},
   "outputs": [
    {
     "data": {
      "text/plain": [
       "(16559, 7)"
      ]
     },
     "execution_count": 4,
     "metadata": {},
     "output_type": "execute_result"
    }
   ],
   "source": [
    "df.shape"
   ]
  },
  {
   "cell_type": "code",
   "execution_count": 5,
   "metadata": {},
   "outputs": [
    {
     "data": {
      "text/plain": [
       "book_id             16559\n",
       "freebase_id         16559\n",
       "book_title          16277\n",
       "author               4715\n",
       "publication_date     2640\n",
       "genre                2155\n",
       "summary             16532\n",
       "dtype: int64"
      ]
     },
     "execution_count": 5,
     "metadata": {},
     "output_type": "execute_result"
    }
   ],
   "source": [
    "df.nunique()"
   ]
  },
  {
   "cell_type": "markdown",
   "metadata": {},
   "source": [
    "## Process data\n",
    "\n",
    "### Columns with IDs\n",
    "\n",
    "IDs will not be used for creating book recommendation system, so they can be dropped from the dataset."
   ]
  },
  {
   "cell_type": "code",
   "execution_count": 6,
   "metadata": {},
   "outputs": [],
   "source": [
    "df.drop(columns=['book_id', 'freebase_id'], inplace=True)"
   ]
  },
  {
   "cell_type": "code",
   "execution_count": 7,
   "metadata": {},
   "outputs": [
    {
     "data": {
      "text/html": [
       "<div>\n",
       "<style scoped>\n",
       "    .dataframe tbody tr th:only-of-type {\n",
       "        vertical-align: middle;\n",
       "    }\n",
       "\n",
       "    .dataframe tbody tr th {\n",
       "        vertical-align: top;\n",
       "    }\n",
       "\n",
       "    .dataframe thead th {\n",
       "        text-align: right;\n",
       "    }\n",
       "</style>\n",
       "<table border=\"1\" class=\"dataframe\">\n",
       "  <thead>\n",
       "    <tr style=\"text-align: right;\">\n",
       "      <th></th>\n",
       "      <th>book_title</th>\n",
       "      <th>author</th>\n",
       "      <th>publication_date</th>\n",
       "      <th>genre</th>\n",
       "      <th>summary</th>\n",
       "    </tr>\n",
       "  </thead>\n",
       "  <tbody>\n",
       "    <tr>\n",
       "      <th>0</th>\n",
       "      <td>Animal Farm</td>\n",
       "      <td>George Orwell</td>\n",
       "      <td>1945-08-17</td>\n",
       "      <td>{\"/m/016lj8\": \"Roman \\u00e0 clef\", \"/m/06nbt\":...</td>\n",
       "      <td>Old Major, the old boar on the Manor Farm, ca...</td>\n",
       "    </tr>\n",
       "    <tr>\n",
       "      <th>1</th>\n",
       "      <td>A Clockwork Orange</td>\n",
       "      <td>Anthony Burgess</td>\n",
       "      <td>1962</td>\n",
       "      <td>{\"/m/06n90\": \"Science Fiction\", \"/m/0l67h\": \"N...</td>\n",
       "      <td>Alex, a teenager living in near-future Englan...</td>\n",
       "    </tr>\n",
       "    <tr>\n",
       "      <th>2</th>\n",
       "      <td>The Plague</td>\n",
       "      <td>Albert Camus</td>\n",
       "      <td>1947</td>\n",
       "      <td>{\"/m/02m4t\": \"Existentialism\", \"/m/02xlf\": \"Fi...</td>\n",
       "      <td>The text of The Plague is divided into five p...</td>\n",
       "    </tr>\n",
       "    <tr>\n",
       "      <th>3</th>\n",
       "      <td>An Enquiry Concerning Human Understanding</td>\n",
       "      <td>David Hume</td>\n",
       "      <td></td>\n",
       "      <td></td>\n",
       "      <td>The argument of the Enquiry proceeds by a ser...</td>\n",
       "    </tr>\n",
       "    <tr>\n",
       "      <th>4</th>\n",
       "      <td>A Fire Upon the Deep</td>\n",
       "      <td>Vernor Vinge</td>\n",
       "      <td></td>\n",
       "      <td>{\"/m/03lrw\": \"Hard science fiction\", \"/m/06n90...</td>\n",
       "      <td>The novel posits that space around the Milky ...</td>\n",
       "    </tr>\n",
       "  </tbody>\n",
       "</table>\n",
       "</div>"
      ],
      "text/plain": [
       "                                  book_title           author  \\\n",
       "0                                Animal Farm    George Orwell   \n",
       "1                         A Clockwork Orange  Anthony Burgess   \n",
       "2                                 The Plague     Albert Camus   \n",
       "3  An Enquiry Concerning Human Understanding       David Hume   \n",
       "4                       A Fire Upon the Deep     Vernor Vinge   \n",
       "\n",
       "  publication_date                                              genre  \\\n",
       "0       1945-08-17  {\"/m/016lj8\": \"Roman \\u00e0 clef\", \"/m/06nbt\":...   \n",
       "1             1962  {\"/m/06n90\": \"Science Fiction\", \"/m/0l67h\": \"N...   \n",
       "2             1947  {\"/m/02m4t\": \"Existentialism\", \"/m/02xlf\": \"Fi...   \n",
       "3                                                                       \n",
       "4                   {\"/m/03lrw\": \"Hard science fiction\", \"/m/06n90...   \n",
       "\n",
       "                                             summary  \n",
       "0   Old Major, the old boar on the Manor Farm, ca...  \n",
       "1   Alex, a teenager living in near-future Englan...  \n",
       "2   The text of The Plague is divided into five p...  \n",
       "3   The argument of the Enquiry proceeds by a ser...  \n",
       "4   The novel posits that space around the Milky ...  "
      ]
     },
     "execution_count": 7,
     "metadata": {},
     "output_type": "execute_result"
    }
   ],
   "source": [
    "df.head()"
   ]
  },
  {
   "cell_type": "markdown",
   "metadata": {},
   "source": [
    "### Book title\n",
    "\n",
    "Some titles occurs more than one time."
   ]
  },
  {
   "cell_type": "code",
   "execution_count": 8,
   "metadata": {},
   "outputs": [
    {
     "data": {
      "text/plain": [
       "book_title\n",
       "Nemesis        6\n",
       "Outcast        4\n",
       "Haunted        4\n",
       "Inferno        4\n",
       "The Gift       3\n",
       "              ..\n",
       "Fury           2\n",
       "Illusions      2\n",
       "Plague Ship    2\n",
       "Sea Change     2\n",
       "Transit        2\n",
       "Name: count, Length: 246, dtype: int64"
      ]
     },
     "execution_count": 8,
     "metadata": {},
     "output_type": "execute_result"
    }
   ],
   "source": [
    "vc = df.book_title.value_counts()\n",
    "vc[vc > 1]"
   ]
  },
  {
   "cell_type": "markdown",
   "metadata": {},
   "source": [
    "Those are quite common and short titles. We need to check if there are duplicated pairs with the same author and title."
   ]
  },
  {
   "cell_type": "code",
   "execution_count": 9,
   "metadata": {},
   "outputs": [
    {
     "data": {
      "text/plain": [
       "book_title                      author          \n",
       "The Keep                        F. Paul Wilson      2\n",
       "Peter Pan                       J. M. Barrie        2\n",
       "Ender's Game                    Orson Scott Card    2\n",
       "Earthlight                      Arthur C. Clarke    2\n",
       "Genesis                                             2\n",
       "Killing Time                                        2\n",
       "Mr. Monk Goes to the Firehouse  Lee Goldberg        2\n",
       "Wither                                              2\n",
       "Name: count, dtype: int64"
      ]
     },
     "execution_count": 9,
     "metadata": {},
     "output_type": "execute_result"
    }
   ],
   "source": [
    "vc = df[[\"book_title\", \"author\"]].value_counts()\n",
    "vc[vc > 1]"
   ]
  },
  {
   "cell_type": "markdown",
   "metadata": {},
   "source": [
    "There are 8 examples where book with the same title and author was in the dataset. Duplicated rows are dropped."
   ]
  },
  {
   "cell_type": "code",
   "execution_count": 10,
   "metadata": {},
   "outputs": [
    {
     "data": {
      "text/plain": [
       "(16551, 5)"
      ]
     },
     "execution_count": 10,
     "metadata": {},
     "output_type": "execute_result"
    }
   ],
   "source": [
    "df.drop_duplicates(subset=[\"book_title\", \"author\"], keep=\"first\", inplace=True)\n",
    "df.shape"
   ]
  },
  {
   "cell_type": "markdown",
   "metadata": {},
   "source": [
    "### Author"
   ]
  },
  {
   "cell_type": "code",
   "execution_count": 11,
   "metadata": {},
   "outputs": [
    {
     "data": {
      "text/markdown": [
       "There are 2379 books without the author in the dataset."
      ],
      "text/plain": [
       "<IPython.core.display.Markdown object>"
      ]
     },
     "execution_count": 11,
     "metadata": {},
     "output_type": "execute_result"
    }
   ],
   "source": [
    "df[\"author\"] = df.author.replace('', np.nan)\n",
    "Markdown(f\"There are {sum(df.author.isna())} books without the author in the dataset.\")"
   ]
  },
  {
   "cell_type": "markdown",
   "metadata": {},
   "source": [
    "The most popular authors"
   ]
  },
  {
   "cell_type": "code",
   "execution_count": 12,
   "metadata": {},
   "outputs": [
    {
     "data": {
      "image/png": "[encoded data removed]",
      "text/plain": [
       "<Figure size 640x480 with 1 Axes>"
      ]
     },
     "metadata": {},
     "output_type": "display_data"
    }
   ],
   "source": [
    "df.author.value_counts().head(10).plot.barh(title=\"TOP 10 most popular authors in the dataset\", xlabel=\"Number of books\")\n",
    "plt.show()"
   ]
  },
  {
   "cell_type": "markdown",
   "metadata": {},
   "source": [
    "### Publication date"
   ]
  },
  {
   "cell_type": "code",
   "execution_count": 13,
   "metadata": {},
   "outputs": [],
   "source": [
    "def get_year_from_date(dates):\n",
    "    years = []\n",
    "    for date in dates:\n",
    "        if date == \"\":\n",
    "            years.append(np.nan)\n",
    "        elif re.search(\"^\\d{4}$\", date) is not None:\n",
    "            years.append(int(date))\n",
    "        else:\n",
    "            years.append(int(date.split(\"-\")[0]))\n",
    "    return years"
   ]
  },
  {
   "cell_type": "code",
   "execution_count": 14,
   "metadata": {},
   "outputs": [],
   "source": [
    "df[\"publication_year\"] = get_year_from_date(df.publication_date.to_list())"
   ]
  },
  {
   "cell_type": "code",
   "execution_count": 15,
   "metadata": {},
   "outputs": [
    {
     "data": {
      "text/plain": [
       "count    10945.000000\n",
       "mean      1975.920146\n",
       "std         49.648680\n",
       "min        398.000000\n",
       "25%       1966.000000\n",
       "50%       1991.000000\n",
       "75%       2003.000000\n",
       "max       2013.000000\n",
       "Name: publication_year, dtype: float64"
      ]
     },
     "execution_count": 15,
     "metadata": {},
     "output_type": "execute_result"
    }
   ],
   "source": [
    "df.publication_year.dropna().describe()"
   ]
  },
  {
   "cell_type": "code",
   "execution_count": 16,
   "metadata": {},
   "outputs": [
    {
     "data": {
      "image/png": "[encoded data removed]",
      "text/plain": [
       "<Figure size 640x480 with 1 Axes>"
      ]
     },
     "metadata": {},
     "output_type": "display_data"
    }
   ],
   "source": [
    "df.query(\"publication_year > 1900\").publication_year.dropna().plot.box(title=\"Publication year ditribution after 1900\")\n",
    "plt.show()"
   ]
  },
  {
   "cell_type": "markdown",
   "metadata": {},
   "source": [
    "### Genre"
   ]
  },
  {
   "cell_type": "code",
   "execution_count": 17,
   "metadata": {},
   "outputs": [],
   "source": [
    "def parse_genre_entry(genre_info):\n",
    "    if genre_info == '':\n",
    "        return []\n",
    "    genre_dict = json.loads(genre_info)\n",
    "    genres = list(genre_dict.values())\n",
    "    return genres"
   ]
  },
  {
   "cell_type": "code",
   "execution_count": 18,
   "metadata": {},
   "outputs": [],
   "source": [
    "df[\"genre\"] = df['genre'].apply(parse_genre_entry)"
   ]
  },
  {
   "cell_type": "code",
   "execution_count": 19,
   "metadata": {},
   "outputs": [
    {
     "data": {
      "image/png": "[encoded data removed]",
      "text/plain": [
       "<Figure size 640x480 with 1 Axes>"
      ]
     },
     "metadata": {},
     "output_type": "display_data"
    }
   ],
   "source": [
    "df.genre.explode().dropna().value_counts().head(20).plot.barh(xlabel=\"Number of titles\")\n",
    "plt.show()"
   ]
  },
  {
   "cell_type": "code",
   "execution_count": 20,
   "metadata": {},
   "outputs": [
    {
     "data": {
      "text/markdown": [
       "There are 227 unique genre."
      ],
      "text/plain": [
       "<IPython.core.display.Markdown object>"
      ]
     },
     "execution_count": 20,
     "metadata": {},
     "output_type": "execute_result"
    }
   ],
   "source": [
    "Markdown(f\"There are {df.genre.explode().nunique()} unique genre.\")"
   ]
  },
  {
   "cell_type": "markdown",
   "metadata": {},
   "source": [
    "### Summary"
   ]
  },
  {
   "cell_type": "code",
   "execution_count": 21,
   "metadata": {},
   "outputs": [
    {
     "data": {
      "text/plain": [
       "False"
      ]
     },
     "execution_count": 21,
     "metadata": {},
     "output_type": "execute_result"
    }
   ],
   "source": [
    "any(df.summary.isna())"
   ]
  },
  {
   "cell_type": "code",
   "execution_count": 22,
   "metadata": {},
   "outputs": [
    {
     "data": {
      "image/png": "[encoded data removed]",
      "text/plain": [
       "<Figure size 640x480 with 1 Axes>"
      ]
     },
     "metadata": {},
     "output_type": "display_data"
    }
   ],
   "source": [
    "df.summary.apply(len).plot.box()\n",
    "plt.show()"
   ]
  },
  {
   "cell_type": "code",
   "execution_count": 23,
   "metadata": {},
   "outputs": [
    {
     "data": {
      "text/plain": [
       "count    16551.000000\n",
       "mean        21.910096\n",
       "std         26.000558\n",
       "min          1.000000\n",
       "25%          6.000000\n",
       "50%         13.000000\n",
       "75%         28.000000\n",
       "max        507.000000\n",
       "Name: summary, dtype: float64"
      ]
     },
     "execution_count": 23,
     "metadata": {},
     "output_type": "execute_result"
    }
   ],
   "source": [
    "df.summary.apply(lambda x: len(x.split(\".\"))).describe()"
   ]
  },
  {
   "cell_type": "code",
   "execution_count": 24,
   "metadata": {},
   "outputs": [],
   "source": [
    "def clean_data(list_of_texts: list[str]) -> list[str]:\n",
    "    clean_text = []\n",
    "    stopwords_list = stopwords.words(\"english\")\n",
    "    lem = WordNetLemmatizer()\n",
    "    for text in list_of_texts:\n",
    "        new_text = text.lower().strip() # change text to lowercase\n",
    "        new_text = re.sub('[^a-zA-Z]', ' ', new_text) # remove numbers and special chars\n",
    "        new_text = re.sub(\" +\", \" \", new_text) # remove repetetive spaces\n",
    "        new_text = ' '.join(lem.lemmatize(text) for text in new_text.split() if text not in stopwords_list)\n",
    "        clean_text.append(new_text)\n",
    "    return clean_text"
   ]
  },
  {
   "cell_type": "code",
   "execution_count": 25,
   "metadata": {},
   "outputs": [
    {
     "data": {
      "text/html": [
       "<div>\n",
       "<style scoped>\n",
       "    .dataframe tbody tr th:only-of-type {\n",
       "        vertical-align: middle;\n",
       "    }\n",
       "\n",
       "    .dataframe tbody tr th {\n",
       "        vertical-align: top;\n",
       "    }\n",
       "\n",
       "    .dataframe thead th {\n",
       "        text-align: right;\n",
       "    }\n",
       "</style>\n",
       "<table border=\"1\" class=\"dataframe\">\n",
       "  <thead>\n",
       "    <tr style=\"text-align: right;\">\n",
       "      <th></th>\n",
       "      <th>book_title</th>\n",
       "      <th>author</th>\n",
       "      <th>publication_date</th>\n",
       "      <th>genre</th>\n",
       "      <th>summary</th>\n",
       "      <th>publication_year</th>\n",
       "      <th>clean_summary</th>\n",
       "    </tr>\n",
       "  </thead>\n",
       "  <tbody>\n",
       "    <tr>\n",
       "      <th>0</th>\n",
       "      <td>Animal Farm</td>\n",
       "      <td>George Orwell</td>\n",
       "      <td>1945-08-17</td>\n",
       "      <td>[Roman à clef, Satire, Children's literature, ...</td>\n",
       "      <td>Old Major, the old boar on the Manor Farm, ca...</td>\n",
       "      <td>1945.0</td>\n",
       "      <td>old major old boar manor farm call animal farm...</td>\n",
       "    </tr>\n",
       "    <tr>\n",
       "      <th>1</th>\n",
       "      <td>A Clockwork Orange</td>\n",
       "      <td>Anthony Burgess</td>\n",
       "      <td>1962</td>\n",
       "      <td>[Science Fiction, Novella, Speculative fiction...</td>\n",
       "      <td>Alex, a teenager living in near-future Englan...</td>\n",
       "      <td>1962.0</td>\n",
       "      <td>alex teenager living near future england lead ...</td>\n",
       "    </tr>\n",
       "    <tr>\n",
       "      <th>2</th>\n",
       "      <td>The Plague</td>\n",
       "      <td>Albert Camus</td>\n",
       "      <td>1947</td>\n",
       "      <td>[Existentialism, Fiction, Absurdist fiction, N...</td>\n",
       "      <td>The text of The Plague is divided into five p...</td>\n",
       "      <td>1947.0</td>\n",
       "      <td>text plague divided five part town oran thousa...</td>\n",
       "    </tr>\n",
       "    <tr>\n",
       "      <th>3</th>\n",
       "      <td>An Enquiry Concerning Human Understanding</td>\n",
       "      <td>David Hume</td>\n",
       "      <td></td>\n",
       "      <td>[]</td>\n",
       "      <td>The argument of the Enquiry proceeds by a ser...</td>\n",
       "      <td>NaN</td>\n",
       "      <td>argument enquiry proceeds series incremental s...</td>\n",
       "    </tr>\n",
       "    <tr>\n",
       "      <th>4</th>\n",
       "      <td>A Fire Upon the Deep</td>\n",
       "      <td>Vernor Vinge</td>\n",
       "      <td></td>\n",
       "      <td>[Hard science fiction, Science Fiction, Specul...</td>\n",
       "      <td>The novel posits that space around the Milky ...</td>\n",
       "      <td>NaN</td>\n",
       "      <td>novel posit space around milky way divided con...</td>\n",
       "    </tr>\n",
       "  </tbody>\n",
       "</table>\n",
       "</div>"
      ],
      "text/plain": [
       "                                  book_title           author  \\\n",
       "0                                Animal Farm    George Orwell   \n",
       "1                         A Clockwork Orange  Anthony Burgess   \n",
       "2                                 The Plague     Albert Camus   \n",
       "3  An Enquiry Concerning Human Understanding       David Hume   \n",
       "4                       A Fire Upon the Deep     Vernor Vinge   \n",
       "\n",
       "  publication_date                                              genre  \\\n",
       "0       1945-08-17  [Roman à clef, Satire, Children's literature, ...   \n",
       "1             1962  [Science Fiction, Novella, Speculative fiction...   \n",
       "2             1947  [Existentialism, Fiction, Absurdist fiction, N...   \n",
       "3                                                                  []   \n",
       "4                   [Hard science fiction, Science Fiction, Specul...   \n",
       "\n",
       "                                             summary  publication_year  \\\n",
       "0   Old Major, the old boar on the Manor Farm, ca...            1945.0   \n",
       "1   Alex, a teenager living in near-future Englan...            1962.0   \n",
       "2   The text of The Plague is divided into five p...            1947.0   \n",
       "3   The argument of the Enquiry proceeds by a ser...               NaN   \n",
       "4   The novel posits that space around the Milky ...               NaN   \n",
       "\n",
       "                                       clean_summary  \n",
       "0  old major old boar manor farm call animal farm...  \n",
       "1  alex teenager living near future england lead ...  \n",
       "2  text plague divided five part town oran thousa...  \n",
       "3  argument enquiry proceeds series incremental s...  \n",
       "4  novel posit space around milky way divided con...  "
      ]
     },
     "execution_count": 25,
     "metadata": {},
     "output_type": "execute_result"
    }
   ],
   "source": [
    "df[\"clean_summary\"] = clean_data(df.summary.to_list())\n",
    "df.head()"
   ]
  },
  {
   "cell_type": "markdown",
   "metadata": {},
   "source": [
    "## TF-IDF vectorizer"
   ]
  },
  {
   "cell_type": "code",
   "execution_count": 26,
   "metadata": {},
   "outputs": [],
   "source": [
    "from tfidf_model import TfiDfModel\n",
    "\n",
    "tfidf = TfiDfModel(df.clean_summary.to_list())\n",
    "tfidf.calculate_similarity()"
   ]
  },
  {
   "cell_type": "code",
   "execution_count": 27,
   "metadata": {},
   "outputs": [
    {
     "data": {
      "text/html": [
       "<div>\n",
       "<style scoped>\n",
       "    .dataframe tbody tr th:only-of-type {\n",
       "        vertical-align: middle;\n",
       "    }\n",
       "\n",
       "    .dataframe tbody tr th {\n",
       "        vertical-align: top;\n",
       "    }\n",
       "\n",
       "    .dataframe thead th {\n",
       "        text-align: right;\n",
       "    }\n",
       "</style>\n",
       "<table border=\"1\" class=\"dataframe\">\n",
       "  <thead>\n",
       "    <tr style=\"text-align: right;\">\n",
       "      <th></th>\n",
       "      <th>1853</th>\n",
       "    </tr>\n",
       "  </thead>\n",
       "  <tbody>\n",
       "    <tr>\n",
       "      <th>book_title</th>\n",
       "      <td>Fevre Dream</td>\n",
       "    </tr>\n",
       "    <tr>\n",
       "      <th>author</th>\n",
       "      <td>George R. R. Martin</td>\n",
       "    </tr>\n",
       "    <tr>\n",
       "      <th>genre</th>\n",
       "      <td>[Fantasy, Science Fiction, Speculative fiction...</td>\n",
       "    </tr>\n",
       "    <tr>\n",
       "      <th>summary</th>\n",
       "      <td>Abner Marsh, a remarkably unattractive but hi...</td>\n",
       "    </tr>\n",
       "  </tbody>\n",
       "</table>\n",
       "</div>"
      ],
      "text/plain": [
       "                                                         1853\n",
       "book_title                                        Fevre Dream\n",
       "author                                    George R. R. Martin\n",
       "genre       [Fantasy, Science Fiction, Speculative fiction...\n",
       "summary      Abner Marsh, a remarkably unattractive but hi..."
      ]
     },
     "execution_count": 27,
     "metadata": {},
     "output_type": "execute_result"
    }
   ],
   "source": [
    "idx = 1853\n",
    "pd.DataFrame(df.loc[idx, [\"book_title\", \"author\", \"genre\", \"summary\"]])"
   ]
  },
  {
   "cell_type": "code",
   "execution_count": 28,
   "metadata": {},
   "outputs": [
    {
     "data": {
      "text/html": [
       "<div>\n",
       "<style scoped>\n",
       "    .dataframe tbody tr th:only-of-type {\n",
       "        vertical-align: middle;\n",
       "    }\n",
       "\n",
       "    .dataframe tbody tr th {\n",
       "        vertical-align: top;\n",
       "    }\n",
       "\n",
       "    .dataframe thead th {\n",
       "        text-align: right;\n",
       "    }\n",
       "</style>\n",
       "<table border=\"1\" class=\"dataframe\">\n",
       "  <thead>\n",
       "    <tr style=\"text-align: right;\">\n",
       "      <th></th>\n",
       "      <th>book_title</th>\n",
       "      <th>author</th>\n",
       "      <th>genre</th>\n",
       "      <th>summary</th>\n",
       "    </tr>\n",
       "  </thead>\n",
       "  <tbody>\n",
       "    <tr>\n",
       "      <th>8022</th>\n",
       "      <td>Mr. Tall</td>\n",
       "      <td>Roger Hargreaves</td>\n",
       "      <td>[Children's literature]</td>\n",
       "      <td>Mr. Tall hates his oversized legs. He meets M...</td>\n",
       "    </tr>\n",
       "    <tr>\n",
       "      <th>2349</th>\n",
       "      <td>Kaleidoscope Century</td>\n",
       "      <td>John Barnes</td>\n",
       "      <td>[Science Fiction, Speculative fiction, Fiction]</td>\n",
       "      <td>The narrator, at first appearing to be just o...</td>\n",
       "    </tr>\n",
       "    <tr>\n",
       "      <th>9438</th>\n",
       "      <td>The Fur Country</td>\n",
       "      <td>Jules Verne</td>\n",
       "      <td>[Fiction, Adventure novel, Novel]</td>\n",
       "      <td>In 1859 Lt. Jasper Hobson and other members o...</td>\n",
       "    </tr>\n",
       "    <tr>\n",
       "      <th>10</th>\n",
       "      <td>Book of Joshua</td>\n",
       "      <td>NaN</td>\n",
       "      <td>[]</td>\n",
       "      <td>(Chapter 1 is the first of three important mo...</td>\n",
       "    </tr>\n",
       "    <tr>\n",
       "      <th>16046</th>\n",
       "      <td>The November Criminals</td>\n",
       "      <td>NaN</td>\n",
       "      <td>[Young adult literature]</td>\n",
       "      <td>The hero of the book is 18-year-old Addison S...</td>\n",
       "    </tr>\n",
       "    <tr>\n",
       "      <th>390</th>\n",
       "      <td>Lamb: The Gospel According to Biff, Christ's C...</td>\n",
       "      <td>Christopher Moore</td>\n",
       "      <td>[Adventure, Absurdist fiction, Speculative fic...</td>\n",
       "      <td>Biff has been resurrected in the present day ...</td>\n",
       "    </tr>\n",
       "    <tr>\n",
       "      <th>9639</th>\n",
       "      <td>Matriarch</td>\n",
       "      <td>Karen Traviss</td>\n",
       "      <td>[Science Fiction, Speculative fiction, Fiction]</td>\n",
       "      <td>Mohan Rayat and Lindsay Neville have been sen...</td>\n",
       "    </tr>\n",
       "    <tr>\n",
       "      <th>4374</th>\n",
       "      <td>Hot Sleep</td>\n",
       "      <td>Orson Scott Card</td>\n",
       "      <td>[Science Fiction]</td>\n",
       "      <td>The book follows Jason Worthing, also known a...</td>\n",
       "    </tr>\n",
       "    <tr>\n",
       "      <th>13093</th>\n",
       "      <td>Pale Gray for Guilt</td>\n",
       "      <td>John D. MacDonald</td>\n",
       "      <td>[Mystery]</td>\n",
       "      <td>When McGee visits Tush Bannon, his wife Janin...</td>\n",
       "    </tr>\n",
       "    <tr>\n",
       "      <th>2467</th>\n",
       "      <td>Vampire$</td>\n",
       "      <td>John Steakley</td>\n",
       "      <td>[Speculative fiction, Fantasy]</td>\n",
       "      <td>The book opens with Vampire$, Inc. cleaning o...</td>\n",
       "    </tr>\n",
       "  </tbody>\n",
       "</table>\n",
       "</div>"
      ],
      "text/plain": [
       "                                              book_title             author  \\\n",
       "8022                                            Mr. Tall   Roger Hargreaves   \n",
       "2349                                Kaleidoscope Century        John Barnes   \n",
       "9438                                     The Fur Country        Jules Verne   \n",
       "10                                        Book of Joshua                NaN   \n",
       "16046                             The November Criminals                NaN   \n",
       "390    Lamb: The Gospel According to Biff, Christ's C...  Christopher Moore   \n",
       "9639                                           Matriarch      Karen Traviss   \n",
       "4374                                           Hot Sleep   Orson Scott Card   \n",
       "13093                                Pale Gray for Guilt  John D. MacDonald   \n",
       "2467                                            Vampire$      John Steakley   \n",
       "\n",
       "                                                   genre  \\\n",
       "8022                             [Children's literature]   \n",
       "2349     [Science Fiction, Speculative fiction, Fiction]   \n",
       "9438                   [Fiction, Adventure novel, Novel]   \n",
       "10                                                    []   \n",
       "16046                           [Young adult literature]   \n",
       "390    [Adventure, Absurdist fiction, Speculative fic...   \n",
       "9639     [Science Fiction, Speculative fiction, Fiction]   \n",
       "4374                                   [Science Fiction]   \n",
       "13093                                          [Mystery]   \n",
       "2467                      [Speculative fiction, Fantasy]   \n",
       "\n",
       "                                                 summary  \n",
       "8022    Mr. Tall hates his oversized legs. He meets M...  \n",
       "2349    The narrator, at first appearing to be just o...  \n",
       "9438    In 1859 Lt. Jasper Hobson and other members o...  \n",
       "10      (Chapter 1 is the first of three important mo...  \n",
       "16046   The hero of the book is 18-year-old Addison S...  \n",
       "390     Biff has been resurrected in the present day ...  \n",
       "9639    Mohan Rayat and Lindsay Neville have been sen...  \n",
       "4374    The book follows Jason Worthing, also known a...  \n",
       "13093   When McGee visits Tush Bannon, his wife Janin...  \n",
       "2467    The book opens with Vampire$, Inc. cleaning o...  "
      ]
     },
     "execution_count": 28,
     "metadata": {},
     "output_type": "execute_result"
    }
   ],
   "source": [
    "recoms = tfidf.get_recommendations(idx)\n",
    "pd.DataFrame(df.loc[recoms, [\"book_title\", \"author\", \"genre\", \"summary\"]])"
   ]
  },
  {
   "cell_type": "markdown",
   "metadata": {},
   "source": [
    "## Gensim"
   ]
  },
  {
   "cell_type": "code",
   "execution_count": 29,
   "metadata": {},
   "outputs": [],
   "source": [
    "from doc2vec_model import Doc2VecModel\n",
    "\n",
    "doc2vec = Doc2VecModel(df.summary.to_list(), 100, 0.025, 4, 20)\n",
    "doc2vec.calculate_similarity()\n",
    "doc2vec.save_model(\"models/d2v.model\")"
   ]
  },
  {
   "cell_type": "code",
   "execution_count": 30,
   "metadata": {},
   "outputs": [
    {
     "data": {
      "text/html": [
       "<div>\n",
       "<style scoped>\n",
       "    .dataframe tbody tr th:only-of-type {\n",
       "        vertical-align: middle;\n",
       "    }\n",
       "\n",
       "    .dataframe tbody tr th {\n",
       "        vertical-align: top;\n",
       "    }\n",
       "\n",
       "    .dataframe thead th {\n",
       "        text-align: right;\n",
       "    }\n",
       "</style>\n",
       "<table border=\"1\" class=\"dataframe\">\n",
       "  <thead>\n",
       "    <tr style=\"text-align: right;\">\n",
       "      <th></th>\n",
       "      <th>1853</th>\n",
       "    </tr>\n",
       "  </thead>\n",
       "  <tbody>\n",
       "    <tr>\n",
       "      <th>book_title</th>\n",
       "      <td>Fevre Dream</td>\n",
       "    </tr>\n",
       "    <tr>\n",
       "      <th>author</th>\n",
       "      <td>George R. R. Martin</td>\n",
       "    </tr>\n",
       "    <tr>\n",
       "      <th>genre</th>\n",
       "      <td>[Fantasy, Science Fiction, Speculative fiction...</td>\n",
       "    </tr>\n",
       "    <tr>\n",
       "      <th>summary</th>\n",
       "      <td>Abner Marsh, a remarkably unattractive but hi...</td>\n",
       "    </tr>\n",
       "  </tbody>\n",
       "</table>\n",
       "</div>"
      ],
      "text/plain": [
       "                                                         1853\n",
       "book_title                                        Fevre Dream\n",
       "author                                    George R. R. Martin\n",
       "genre       [Fantasy, Science Fiction, Speculative fiction...\n",
       "summary      Abner Marsh, a remarkably unattractive but hi..."
      ]
     },
     "execution_count": 30,
     "metadata": {},
     "output_type": "execute_result"
    }
   ],
   "source": [
    "idx = 1853\n",
    "pd.DataFrame(df.loc[idx, [\"book_title\", \"author\", \"genre\", \"summary\"]])"
   ]
  },
  {
   "cell_type": "code",
   "execution_count": 31,
   "metadata": {},
   "outputs": [
    {
     "data": {
      "text/html": [
       "<div>\n",
       "<style scoped>\n",
       "    .dataframe tbody tr th:only-of-type {\n",
       "        vertical-align: middle;\n",
       "    }\n",
       "\n",
       "    .dataframe tbody tr th {\n",
       "        vertical-align: top;\n",
       "    }\n",
       "\n",
       "    .dataframe thead th {\n",
       "        text-align: right;\n",
       "    }\n",
       "</style>\n",
       "<table border=\"1\" class=\"dataframe\">\n",
       "  <thead>\n",
       "    <tr style=\"text-align: right;\">\n",
       "      <th></th>\n",
       "      <th>book_title</th>\n",
       "      <th>author</th>\n",
       "      <th>genre</th>\n",
       "      <th>summary</th>\n",
       "    </tr>\n",
       "  </thead>\n",
       "  <tbody>\n",
       "    <tr>\n",
       "      <th>3011</th>\n",
       "      <td>Sandworms of Dune</td>\n",
       "      <td>Kevin J. Anderson</td>\n",
       "      <td>[Science Fiction, Speculative fiction, Fiction]</td>\n",
       "      <td>As Sandworms of Dune begins, the passengers o...</td>\n",
       "    </tr>\n",
       "    <tr>\n",
       "      <th>662</th>\n",
       "      <td>Lord of Light</td>\n",
       "      <td>Roger Zelazny</td>\n",
       "      <td>[Science Fiction, Speculative fiction, Fantasy...</td>\n",
       "      <td>Lord of Light is set on a planet colonized by...</td>\n",
       "    </tr>\n",
       "    <tr>\n",
       "      <th>3010</th>\n",
       "      <td>Hunters of Dune</td>\n",
       "      <td>Kevin J. Anderson</td>\n",
       "      <td>[Science Fiction, Speculative fiction, Fiction]</td>\n",
       "      <td>For three years, the no-ship (named the Ithac...</td>\n",
       "    </tr>\n",
       "    <tr>\n",
       "      <th>249</th>\n",
       "      <td>The Return of the King</td>\n",
       "      <td>J. R. R. Tolkien</td>\n",
       "      <td>[Science Fiction, Biography, Speculative ficti...</td>\n",
       "      <td>Gandalf and Pippin arrive at Minas Tirith in ...</td>\n",
       "    </tr>\n",
       "    <tr>\n",
       "      <th>78</th>\n",
       "      <td>The Lord of the Rings</td>\n",
       "      <td>J. R. R. Tolkien</td>\n",
       "      <td>[Adventure novel, Speculative fiction, Fantasy...</td>\n",
       "      <td>Long before the events of the novel, the Dark...</td>\n",
       "    </tr>\n",
       "    <tr>\n",
       "      <th>15341</th>\n",
       "      <td>Fraulein Spy</td>\n",
       "      <td>NaN</td>\n",
       "      <td>[]</td>\n",
       "      <td>The story is set in May 1964. Nick Carter is ...</td>\n",
       "    </tr>\n",
       "    <tr>\n",
       "      <th>2415</th>\n",
       "      <td>The Pearls of Lutra</td>\n",
       "      <td>Brian Jacques</td>\n",
       "      <td>[Children's literature, Fantasy, Speculative f...</td>\n",
       "      <td>When gathering herbs near the quarry in Mossf...</td>\n",
       "    </tr>\n",
       "    <tr>\n",
       "      <th>981</th>\n",
       "      <td>Star by Star</td>\n",
       "      <td>Troy Denning</td>\n",
       "      <td>[Science Fiction, Speculative fiction, Fantasy...</td>\n",
       "      <td>In this dark and dangerous time for the New R...</td>\n",
       "    </tr>\n",
       "    <tr>\n",
       "      <th>7540</th>\n",
       "      <td>The Black Unicorn</td>\n",
       "      <td>Terry Brooks</td>\n",
       "      <td>[Children's literature, Fantasy, Speculative f...</td>\n",
       "      <td>Ben Holiday, court magician Questor Thews and...</td>\n",
       "    </tr>\n",
       "    <tr>\n",
       "      <th>1457</th>\n",
       "      <td>The Unifying Force</td>\n",
       "      <td>James Luceno</td>\n",
       "      <td>[Science Fiction, Speculative fiction, Fiction]</td>\n",
       "      <td>The novel begins on the Yuuzhan Vong prisoner...</td>\n",
       "    </tr>\n",
       "  </tbody>\n",
       "</table>\n",
       "</div>"
      ],
      "text/plain": [
       "                   book_title             author  \\\n",
       "3011        Sandworms of Dune  Kevin J. Anderson   \n",
       "662             Lord of Light      Roger Zelazny   \n",
       "3010          Hunters of Dune  Kevin J. Anderson   \n",
       "249    The Return of the King   J. R. R. Tolkien   \n",
       "78      The Lord of the Rings   J. R. R. Tolkien   \n",
       "15341            Fraulein Spy                NaN   \n",
       "2415      The Pearls of Lutra      Brian Jacques   \n",
       "981              Star by Star       Troy Denning   \n",
       "7540        The Black Unicorn       Terry Brooks   \n",
       "1457       The Unifying Force       James Luceno   \n",
       "\n",
       "                                                   genre  \\\n",
       "3011     [Science Fiction, Speculative fiction, Fiction]   \n",
       "662    [Science Fiction, Speculative fiction, Fantasy...   \n",
       "3010     [Science Fiction, Speculative fiction, Fiction]   \n",
       "249    [Science Fiction, Biography, Speculative ficti...   \n",
       "78     [Adventure novel, Speculative fiction, Fantasy...   \n",
       "15341                                                 []   \n",
       "2415   [Children's literature, Fantasy, Speculative f...   \n",
       "981    [Science Fiction, Speculative fiction, Fantasy...   \n",
       "7540   [Children's literature, Fantasy, Speculative f...   \n",
       "1457     [Science Fiction, Speculative fiction, Fiction]   \n",
       "\n",
       "                                                 summary  \n",
       "3011    As Sandworms of Dune begins, the passengers o...  \n",
       "662     Lord of Light is set on a planet colonized by...  \n",
       "3010    For three years, the no-ship (named the Ithac...  \n",
       "249     Gandalf and Pippin arrive at Minas Tirith in ...  \n",
       "78      Long before the events of the novel, the Dark...  \n",
       "15341   The story is set in May 1964. Nick Carter is ...  \n",
       "2415    When gathering herbs near the quarry in Mossf...  \n",
       "981     In this dark and dangerous time for the New R...  \n",
       "7540    Ben Holiday, court magician Questor Thews and...  \n",
       "1457    The novel begins on the Yuuzhan Vong prisoner...  "
      ]
     },
     "execution_count": 31,
     "metadata": {},
     "output_type": "execute_result"
    }
   ],
   "source": [
    "recoms = doc2vec.get_recommendations(idx)\n",
    "pd.DataFrame(df.loc[recoms, [\"book_title\", \"author\", \"genre\", \"summary\"]])"
   ]
  },
  {
   "cell_type": "markdown",
   "metadata": {},
   "source": [
    "## Sentence Transformer"
   ]
  },
  {
   "cell_type": "code",
   "execution_count": 137,
   "metadata": {},
   "outputs": [],
   "source": [
    "from transformer_model import TransformerModel\n",
    "\n",
    "sentence_transformer = TransformerModel(df.summary.to_list(), 'paraphrase-mpnet-base-v2')\n",
    "sentence_transformer.calculate_similarity()\n",
    "sentence_transformer.save_model(\"models/sentence_transformer\")"
   ]
  },
  {
   "cell_type": "code",
   "execution_count": 138,
   "metadata": {},
   "outputs": [
    {
     "data": {
      "text/html": [
       "<div>\n",
       "<style scoped>\n",
       "    .dataframe tbody tr th:only-of-type {\n",
       "        vertical-align: middle;\n",
       "    }\n",
       "\n",
       "    .dataframe tbody tr th {\n",
       "        vertical-align: top;\n",
       "    }\n",
       "\n",
       "    .dataframe thead th {\n",
       "        text-align: right;\n",
       "    }\n",
       "</style>\n",
       "<table border=\"1\" class=\"dataframe\">\n",
       "  <thead>\n",
       "    <tr style=\"text-align: right;\">\n",
       "      <th></th>\n",
       "      <th>1853</th>\n",
       "    </tr>\n",
       "  </thead>\n",
       "  <tbody>\n",
       "    <tr>\n",
       "      <th>book_title</th>\n",
       "      <td>Fevre Dream</td>\n",
       "    </tr>\n",
       "    <tr>\n",
       "      <th>author</th>\n",
       "      <td>George R. R. Martin</td>\n",
       "    </tr>\n",
       "    <tr>\n",
       "      <th>genre</th>\n",
       "      <td>[Fantasy, Science Fiction, Speculative fiction...</td>\n",
       "    </tr>\n",
       "    <tr>\n",
       "      <th>summary</th>\n",
       "      <td>Abner Marsh, a remarkably unattractive but hi...</td>\n",
       "    </tr>\n",
       "  </tbody>\n",
       "</table>\n",
       "</div>"
      ],
      "text/plain": [
       "                                                         1853\n",
       "book_title                                        Fevre Dream\n",
       "author                                    George R. R. Martin\n",
       "genre       [Fantasy, Science Fiction, Speculative fiction...\n",
       "summary      Abner Marsh, a remarkably unattractive but hi..."
      ]
     },
     "execution_count": 138,
     "metadata": {},
     "output_type": "execute_result"
    }
   ],
   "source": [
    "idx = 1853\n",
    "pd.DataFrame(df.loc[idx, [\"book_title\", \"author\", \"genre\", \"summary\"]])"
   ]
  },
  {
   "cell_type": "code",
   "execution_count": 139,
   "metadata": {},
   "outputs": [
    {
     "data": {
      "text/html": [
       "<div>\n",
       "<style scoped>\n",
       "    .dataframe tbody tr th:only-of-type {\n",
       "        vertical-align: middle;\n",
       "    }\n",
       "\n",
       "    .dataframe tbody tr th {\n",
       "        vertical-align: top;\n",
       "    }\n",
       "\n",
       "    .dataframe thead th {\n",
       "        text-align: right;\n",
       "    }\n",
       "</style>\n",
       "<table border=\"1\" class=\"dataframe\">\n",
       "  <thead>\n",
       "    <tr style=\"text-align: right;\">\n",
       "      <th></th>\n",
       "      <th>book_title</th>\n",
       "      <th>author</th>\n",
       "      <th>genre</th>\n",
       "      <th>summary</th>\n",
       "    </tr>\n",
       "  </thead>\n",
       "  <tbody>\n",
       "    <tr>\n",
       "      <th>4182</th>\n",
       "      <td>The Magic Labyrinth</td>\n",
       "      <td>Philip José Farmer</td>\n",
       "      <td>[Science Fiction, Speculative fiction, Novel]</td>\n",
       "      <td>The book begins from the point of view of The...</td>\n",
       "    </tr>\n",
       "    <tr>\n",
       "      <th>4725</th>\n",
       "      <td>On the Frontiers</td>\n",
       "      <td>Pierre Christin</td>\n",
       "      <td>[]</td>\n",
       "      <td>On a luxury space liner, one of the passenger...</td>\n",
       "    </tr>\n",
       "    <tr>\n",
       "      <th>7857</th>\n",
       "      <td>Stormbreaker: The Graphic Novel</td>\n",
       "      <td>Antony Johnston</td>\n",
       "      <td>[]</td>\n",
       "      <td>The story starts off with Alex Rider at Brook...</td>\n",
       "    </tr>\n",
       "    <tr>\n",
       "      <th>9438</th>\n",
       "      <td>The Fur Country</td>\n",
       "      <td>Jules Verne</td>\n",
       "      <td>[Fiction, Adventure novel, Novel]</td>\n",
       "      <td>In 1859 Lt. Jasper Hobson and other members o...</td>\n",
       "    </tr>\n",
       "    <tr>\n",
       "      <th>7637</th>\n",
       "      <td>Tilly Witch</td>\n",
       "      <td>NaN</td>\n",
       "      <td>[]</td>\n",
       "      <td>Tilly Ipswitch is a witch and the Queen of Ha...</td>\n",
       "    </tr>\n",
       "    <tr>\n",
       "      <th>6278</th>\n",
       "      <td>The Boy in the Striped Pyjamas</td>\n",
       "      <td>John Boyne</td>\n",
       "      <td>[Children's literature, Tragicomedy, Fable, Hi...</td>\n",
       "      <td>Bruno is a 9-year-old boy growing up during W...</td>\n",
       "    </tr>\n",
       "    <tr>\n",
       "      <th>5977</th>\n",
       "      <td>Watchers</td>\n",
       "      <td>Dean Koontz</td>\n",
       "      <td>[Children's literature, Horror, Speculative fi...</td>\n",
       "      <td>The story begins in Santa Barbara, California...</td>\n",
       "    </tr>\n",
       "    <tr>\n",
       "      <th>3442</th>\n",
       "      <td>The Rising</td>\n",
       "      <td>Brian Keene</td>\n",
       "      <td>[Speculative fiction, Horror, Fiction]</td>\n",
       "      <td>The story starts off in the aftermath of a se...</td>\n",
       "    </tr>\n",
       "    <tr>\n",
       "      <th>9431</th>\n",
       "      <td>The Princess Diaries</td>\n",
       "      <td>Meg Cabot</td>\n",
       "      <td>[Children's literature, Young adult literature...</td>\n",
       "      <td>Mia Thermopolis an average urban ninth grader...</td>\n",
       "    </tr>\n",
       "    <tr>\n",
       "      <th>1692</th>\n",
       "      <td>Assassin's Quest</td>\n",
       "      <td>Robin Hobb</td>\n",
       "      <td>[Speculative fiction, Fantasy]</td>\n",
       "      <td>FitzChivalry Farseer is raised from the dead ...</td>\n",
       "    </tr>\n",
       "  </tbody>\n",
       "</table>\n",
       "</div>"
      ],
      "text/plain": [
       "                           book_title              author  \\\n",
       "4182              The Magic Labyrinth  Philip José Farmer   \n",
       "4725                 On the Frontiers     Pierre Christin   \n",
       "7857  Stormbreaker: The Graphic Novel     Antony Johnston   \n",
       "9438                  The Fur Country         Jules Verne   \n",
       "7637                      Tilly Witch                 NaN   \n",
       "6278   The Boy in the Striped Pyjamas          John Boyne   \n",
       "5977                         Watchers         Dean Koontz   \n",
       "3442                       The Rising         Brian Keene   \n",
       "9431             The Princess Diaries           Meg Cabot   \n",
       "1692                 Assassin's Quest          Robin Hobb   \n",
       "\n",
       "                                                  genre  \\\n",
       "4182      [Science Fiction, Speculative fiction, Novel]   \n",
       "4725                                                 []   \n",
       "7857                                                 []   \n",
       "9438                  [Fiction, Adventure novel, Novel]   \n",
       "7637                                                 []   \n",
       "6278  [Children's literature, Tragicomedy, Fable, Hi...   \n",
       "5977  [Children's literature, Horror, Speculative fi...   \n",
       "3442             [Speculative fiction, Horror, Fiction]   \n",
       "9431  [Children's literature, Young adult literature...   \n",
       "1692                     [Speculative fiction, Fantasy]   \n",
       "\n",
       "                                                summary  \n",
       "4182   The book begins from the point of view of The...  \n",
       "4725   On a luxury space liner, one of the passenger...  \n",
       "7857   The story starts off with Alex Rider at Brook...  \n",
       "9438   In 1859 Lt. Jasper Hobson and other members o...  \n",
       "7637   Tilly Ipswitch is a witch and the Queen of Ha...  \n",
       "6278   Bruno is a 9-year-old boy growing up during W...  \n",
       "5977   The story begins in Santa Barbara, California...  \n",
       "3442   The story starts off in the aftermath of a se...  \n",
       "9431   Mia Thermopolis an average urban ninth grader...  \n",
       "1692   FitzChivalry Farseer is raised from the dead ...  "
      ]
     },
     "execution_count": 139,
     "metadata": {},
     "output_type": "execute_result"
    }
   ],
   "source": [
    "recoms = sentence_transformer.get_recommendations(idx)\n",
    "pd.DataFrame(df.loc[recoms, [\"book_title\", \"author\", \"genre\", \"summary\"]])"
   ]
  }
 ],
 "metadata": {
  "kernelspec": {
   "display_name": "books-recommendation-roatuAWL-py3.11",
   "language": "python",
   "name": "python3"
  },
  "language_info": {
   "codemirror_mode": {
    "name": "ipython",
    "version": 3
   },
   "file_extension": ".py",
   "mimetype": "text/x-python",
   "name": "python",
   "nbconvert_exporter": "python",
   "pygments_lexer": "ipython3",
   "version": "3.11.4"
  }
 },
 "nbformat": 4,
 "nbformat_minor": 2
}
