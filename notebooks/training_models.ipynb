{
 "cells": [
  {
   "cell_type": "code",
   "execution_count": null,
   "metadata": {},
   "outputs": [],
   "source": [
    "import sys  \n",
    "sys.path.insert(1, '../')\n",
    "\n",
    "import pandas as pd\n",
    "\n",
    "from scripts.tfidf_model import TfiDfModel\n",
    "from scripts.doc2vec_model import Doc2VecModel\n",
    "from scripts.transformer_model import TransformerModel"
   ]
  },
  {
   "cell_type": "markdown",
   "metadata": {},
   "source": [
    "## Load data"
   ]
  },
  {
   "cell_type": "code",
   "execution_count": null,
   "metadata": {},
   "outputs": [],
   "source": [
    "DATA_PATH = \"../data/processed_data.csv\"\n",
    "SIM_MATRICES_DIR = \"../data/sim_matrix/\""
   ]
  },
  {
   "cell_type": "code",
   "execution_count": null,
   "metadata": {},
   "outputs": [],
   "source": [
    "df = pd.read_csv(DATA_PATH, sep=\";\")\n",
    "df[\"genre\"] = df[\"genre\"].apply(eval)\n",
    "df = df[~df.clean_summary.isna()]\n",
    "df.head()"
   ]
  },
  {
   "cell_type": "markdown",
   "metadata": {},
   "source": [
    "## TF-IDF vectorizer"
   ]
  },
  {
   "cell_type": "code",
   "execution_count": null,
   "metadata": {},
   "outputs": [],
   "source": [
    "tfidf = TfiDfModel(df.clean_summary.to_list())\n",
    "tfidf.calculate_similarity()\n",
    "tfidf.save_sim_matrix(SIM_MATRICES_DIR)"
   ]
  },
  {
   "cell_type": "code",
   "execution_count": null,
   "metadata": {},
   "outputs": [],
   "source": [
    "idx = 320\n",
    "pd.DataFrame(df.loc[idx, [\"book_title\", \"author\", \"genre\", \"summary\"]])"
   ]
  },
  {
   "cell_type": "code",
   "execution_count": null,
   "metadata": {},
   "outputs": [],
   "source": [
    "recoms = tfidf.get_recommendations(idx)\n",
    "pd.DataFrame(df.loc[recoms, [\"book_title\", \"author\", \"genre\", \"summary\"]])"
   ]
  },
  {
   "cell_type": "markdown",
   "metadata": {},
   "source": [
    "## Gensim"
   ]
  },
  {
   "cell_type": "code",
   "execution_count": null,
   "metadata": {},
   "outputs": [],
   "source": [
    "doc2vec = Doc2VecModel(df.summary.to_list(), 256, 0.025, 4, 20)\n",
    "doc2vec.calculate_similarity()\n",
    "doc2vec.save_model(\"../models/d2v.model\")\n",
    "doc2vec.save_sim_matrix(SIM_MATRICES_DIR)"
   ]
  },
  {
   "cell_type": "code",
   "execution_count": null,
   "metadata": {},
   "outputs": [],
   "source": [
    "idx = 320\n",
    "pd.DataFrame(df.loc[idx, [\"book_title\", \"author\", \"genre\", \"summary\"]])"
   ]
  },
  {
   "cell_type": "code",
   "execution_count": null,
   "metadata": {},
   "outputs": [],
   "source": [
    "recoms = doc2vec.get_recommendations(idx)\n",
    "pd.DataFrame(df.loc[recoms, [\"book_title\", \"author\", \"genre\", \"summary\"]])"
   ]
  },
  {
   "cell_type": "markdown",
   "metadata": {},
   "source": [
    "## Sentence Transformer"
   ]
  },
  {
   "cell_type": "code",
   "execution_count": null,
   "metadata": {},
   "outputs": [],
   "source": [
    "sentence_transformer = TransformerModel(df.summary.to_list(), 'paraphrase-mpnet-base-v2')\n",
    "sentence_transformer.calculate_similarity()\n",
    "sentence_transformer.save_model(\"../models/sentence_transformer\")\n",
    "sentence_transformer.save_sim_matrix(SIM_MATRICES_DIR)"
   ]
  },
  {
   "cell_type": "code",
   "execution_count": null,
   "metadata": {},
   "outputs": [],
   "source": [
    "idx = 321\n",
    "pd.DataFrame(df.loc[idx, [\"book_title\", \"author\", \"genre\", \"summary\"]])"
   ]
  },
  {
   "cell_type": "code",
   "execution_count": null,
   "metadata": {},
   "outputs": [],
   "source": [
    "recoms = sentence_transformer.get_recommendations([idx, idx+1])\n",
    "pd.DataFrame(df.loc[recoms, [\"book_title\", \"author\", \"genre\", \"summary\"]])"
   ]
  }
 ],
 "metadata": {
  "kernelspec": {
   "display_name": "books-recommendation-roatuAWL-py3.11",
   "language": "python",
   "name": "python3"
  },
  "language_info": {
   "codemirror_mode": {
    "name": "ipython",
    "version": 3
   },
   "file_extension": ".py",
   "mimetype": "text/x-python",
   "name": "python",
   "nbconvert_exporter": "python",
   "pygments_lexer": "ipython3",
   "version": "3.11.4"
  }
 },
 "nbformat": 4,
 "nbformat_minor": 2
}
